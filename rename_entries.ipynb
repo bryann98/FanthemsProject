{
  "nbformat": 4,
  "nbformat_minor": 0,
  "metadata": {
    "colab": {
      "name": "data-manipulation.ipynb",
      "provenance": [],
      "collapsed_sections": []
    },
    "kernelspec": {
      "name": "python3",
      "display_name": "Python 3"
    },
    "language_info": {
      "name": "python"
    }
  },
  "cells": [
    {
      "cell_type": "code",
      "source": [
        "# Reads subsetted data file obtained from the combined csv file contatining all 39 weeks of data \n",
        "\n",
        "import pandas as pd\n",
        "census_data = pd.read_csv(\"data.csv\",index_col=0)"
      ],
      "metadata": {
        "id": "RQtHK-m73shZ",
        "colab": {
          "base_uri": "https://localhost:8080/"
        },
        "outputId": "d35709b2-fde0-493f-a3a5-b70bb1558d12"
      },
      "execution_count": null,
      "outputs": [
        {
          "output_type": "stream",
          "name": "stderr",
          "text": [
            "/usr/local/lib/python3.7/dist-packages/numpy/lib/arraysetops.py:580: FutureWarning: elementwise comparison failed; returning scalar instead, but in the future will perform elementwise comparison\n",
            "  mask |= (ar1 == a)\n"
          ]
        }
      ]
    },
    {
      "cell_type": "code",
      "metadata": {
        "colab": {
          "base_uri": "https://localhost:8080/",
          "height": 224
        },
        "id": "LDYXomNbxBfm",
        "outputId": "39b9875a-89cd-4fc5-ab01-c104bab48c2b"
      },
      "source": [
        "#census_data.head()"
      ],
      "execution_count": null,
      "outputs": [
        {
          "output_type": "execute_result",
          "data": {
            "text/html": [
              "<div>\n",
              "<style scoped>\n",
              "    .dataframe tbody tr th:only-of-type {\n",
              "        vertical-align: middle;\n",
              "    }\n",
              "\n",
              "    .dataframe tbody tr th {\n",
              "        vertical-align: top;\n",
              "    }\n",
              "\n",
              "    .dataframe thead th {\n",
              "        text-align: right;\n",
              "    }\n",
              "</style>\n",
              "<table border=\"1\" class=\"dataframe\">\n",
              "  <thead>\n",
              "    <tr style=\"text-align: right;\">\n",
              "      <th></th>\n",
              "      <th>TBIRTH_YEAR</th>\n",
              "      <th>EGENDER</th>\n",
              "      <th>RRACE</th>\n",
              "      <th>EEDUC</th>\n",
              "      <th>RECVDVACC</th>\n",
              "      <th>HADCOVID</th>\n",
              "      <th>KINDWORK</th>\n",
              "      <th>ANYWORK</th>\n",
              "      <th>DELAY</th>\n",
              "      <th>NOTGET</th>\n",
              "      <th>MH_NOTGET</th>\n",
              "      <th>INCOME</th>\n",
              "      <th>EST_ST</th>\n",
              "      <th>WEEK</th>\n",
              "      <th>PRIVHLTH</th>\n",
              "      <th>THHLD_NUMPER</th>\n",
              "      <th>THHLD_NUMKID</th>\n",
              "      <th>EXPNS_DIF</th>\n",
              "      <th>ANXIOUS</th>\n",
              "      <th>DOWN</th>\n",
              "      <th>CURFOODSUF</th>\n",
              "    </tr>\n",
              "  </thead>\n",
              "  <tbody>\n",
              "    <tr>\n",
              "      <th>0</th>\n",
              "      <td>1986</td>\n",
              "      <td>2.0</td>\n",
              "      <td>1</td>\n",
              "      <td>6</td>\n",
              "      <td>NaN</td>\n",
              "      <td>NaN</td>\n",
              "      <td>2</td>\n",
              "      <td>1</td>\n",
              "      <td>2.0</td>\n",
              "      <td>2.0</td>\n",
              "      <td>NaN</td>\n",
              "      <td>4</td>\n",
              "      <td>47</td>\n",
              "      <td>1</td>\n",
              "      <td>NaN</td>\n",
              "      <td>4</td>\n",
              "      <td>2</td>\n",
              "      <td>NaN</td>\n",
              "      <td>4</td>\n",
              "      <td>1</td>\n",
              "      <td>1</td>\n",
              "    </tr>\n",
              "    <tr>\n",
              "      <th>1</th>\n",
              "      <td>1955</td>\n",
              "      <td>1.0</td>\n",
              "      <td>1</td>\n",
              "      <td>4</td>\n",
              "      <td>NaN</td>\n",
              "      <td>NaN</td>\n",
              "      <td>-88</td>\n",
              "      <td>2</td>\n",
              "      <td>1.0</td>\n",
              "      <td>1.0</td>\n",
              "      <td>NaN</td>\n",
              "      <td>2</td>\n",
              "      <td>1</td>\n",
              "      <td>1</td>\n",
              "      <td>NaN</td>\n",
              "      <td>1</td>\n",
              "      <td>0</td>\n",
              "      <td>NaN</td>\n",
              "      <td>3</td>\n",
              "      <td>4</td>\n",
              "      <td>2</td>\n",
              "    </tr>\n",
              "    <tr>\n",
              "      <th>2</th>\n",
              "      <td>1976</td>\n",
              "      <td>2.0</td>\n",
              "      <td>4</td>\n",
              "      <td>6</td>\n",
              "      <td>NaN</td>\n",
              "      <td>NaN</td>\n",
              "      <td>3</td>\n",
              "      <td>1</td>\n",
              "      <td>1.0</td>\n",
              "      <td>1.0</td>\n",
              "      <td>NaN</td>\n",
              "      <td>8</td>\n",
              "      <td>26</td>\n",
              "      <td>1</td>\n",
              "      <td>NaN</td>\n",
              "      <td>2</td>\n",
              "      <td>0</td>\n",
              "      <td>NaN</td>\n",
              "      <td>1</td>\n",
              "      <td>1</td>\n",
              "      <td>1</td>\n",
              "    </tr>\n",
              "    <tr>\n",
              "      <th>3</th>\n",
              "      <td>1964</td>\n",
              "      <td>1.0</td>\n",
              "      <td>1</td>\n",
              "      <td>4</td>\n",
              "      <td>NaN</td>\n",
              "      <td>NaN</td>\n",
              "      <td>-88</td>\n",
              "      <td>2</td>\n",
              "      <td>1.0</td>\n",
              "      <td>1.0</td>\n",
              "      <td>NaN</td>\n",
              "      <td>1</td>\n",
              "      <td>1</td>\n",
              "      <td>1</td>\n",
              "      <td>NaN</td>\n",
              "      <td>2</td>\n",
              "      <td>0</td>\n",
              "      <td>NaN</td>\n",
              "      <td>4</td>\n",
              "      <td>4</td>\n",
              "      <td>2</td>\n",
              "    </tr>\n",
              "    <tr>\n",
              "      <th>4</th>\n",
              "      <td>1963</td>\n",
              "      <td>2.0</td>\n",
              "      <td>1</td>\n",
              "      <td>7</td>\n",
              "      <td>NaN</td>\n",
              "      <td>NaN</td>\n",
              "      <td>3</td>\n",
              "      <td>1</td>\n",
              "      <td>2.0</td>\n",
              "      <td>2.0</td>\n",
              "      <td>NaN</td>\n",
              "      <td>4</td>\n",
              "      <td>1</td>\n",
              "      <td>1</td>\n",
              "      <td>NaN</td>\n",
              "      <td>1</td>\n",
              "      <td>0</td>\n",
              "      <td>NaN</td>\n",
              "      <td>2</td>\n",
              "      <td>2</td>\n",
              "      <td>1</td>\n",
              "    </tr>\n",
              "  </tbody>\n",
              "</table>\n",
              "</div>"
            ],
            "text/plain": [
              "   TBIRTH_YEAR  EGENDER  RRACE  EEDUC  ...  EXPNS_DIF  ANXIOUS  DOWN  CURFOODSUF\n",
              "0         1986      2.0      1      6  ...        NaN        4     1           1\n",
              "1         1955      1.0      1      4  ...        NaN        3     4           2\n",
              "2         1976      2.0      4      6  ...        NaN        1     1           1\n",
              "3         1964      1.0      1      4  ...        NaN        4     4           2\n",
              "4         1963      2.0      1      7  ...        NaN        2     2           1\n",
              "\n",
              "[5 rows x 21 columns]"
            ]
          },
          "metadata": {},
          "execution_count": 20
        }
      ]
    },
    {
      "cell_type": "code",
      "metadata": {
        "id": "OEWBEq7YxD5H"
      },
      "source": [
        "# Maps different entries to different level names\n",
        "\n",
        "census_data['RRACE'] = census_data['RRACE'].map({1:'Caucasian', 2: 'African American', 3:'Asian', 4: 'Mixed Origin'})\n",
        "census_data['EEDUC'] = census_data['EEDUC'].map({1:'Less than high school',2:'Some high school',3:'High school level',4:'Some college, not received/in progress',5:'Associate’s degree',6:'Bachelors degree',7:'Graduate degree'})\n",
        "census_data['KINDWORK'] = census_data['KINDWORK'].map({1: 'Government',2: 'Private company',3: 'Non-profit organization',4: 'Self-employed',5: 'Working in a family business',-99: 'Unknown',-88: 'Unknown'})\n",
        "census_data['INCOME'] = census_data['INCOME'].map({1:'Less than $25,000', 2:'$25,000 - $34,999',3:'$35,000 - $49,999',4:'$50,000 - $74,999',5:'$75,000 - $99,999',6:'$100,000 - $149,999',7:'$150,000 - $199,999',8:'$200,000 and above',-99: 'Unknown',-88: 'Unknown'})\n",
        "census_data['EXPNS_DIF'] = census_data['EXPNS_DIF'].map({1:'Not Difficult', 2:'Somewhat Difficult',3:'Somewhat Difficult',4:'Very Difficult',-99:'Unknown',-88:'Unknown'})\n",
        "census_data['ANXIOUS'] = census_data['ANXIOUS'].map({1:'Not At All', 2:'Several Days',3:'Several Days',4:'Every Day',-99:'Unknown',-88:'Unknown'})\n",
        "census_data['DOWN'] = census_data['DOWN'].map({1:'Not At All', 2:'Several Days',3:'Several Days',4:'Every Day',-99:'Unknown',-88:'Unknown'})\n",
        "census_data['CURFOODSUF'] = census_data['CURFOODSUF'].map({1:'Enough', 2:'Sometimes Not Enough',3:'Sometimes Not Enough',4:'Often Not Enough',-99:'Unknown',-88:'Unknown'})"
      ],
      "execution_count": null,
      "outputs": []
    },
    {
      "cell_type": "code",
      "source": [
        "# Maps week numbers from the data to months \n",
        "\n",
        "census_data['WEEK'] = census_data['WEEK'].map({1:'April 2020', 2:'May 2020',3:'May 2020',4:'May 2020',5:'May 2020',6:'June 2020',\n",
        "                                               7:'June 2020', 8:'June 2020',9:'June 2020',10:'July 2020',11:'July 2020',12:'July 2020',\n",
        "                                               13:'August 2020',14:'September 2020',15:'September 2020',16:'October 2020',\n",
        "                                               17:'October 2020',18:'October 2020',19:'November 2020',20:'November 2020',21:'December 2020',\n",
        "                                               22:'January 2021',23:'January 2021',24:'February 2021',25:'February 2021',26:'March 2021',\n",
        "                                               27:'March 2021',28:'April 2021',29:'April 2021',30:'May 2021',31:'May 2021',32:'June 2021',\n",
        "                                               33:'June 2021',34:'July 2021',35:'August 2021',36:'August 2021',37:'September 2021',\n",
        "                                               38:'September 2021',39:'September 2021'})"
      ],
      "metadata": {
        "id": "sSnQBFONsw_w"
      },
      "execution_count": null,
      "outputs": []
    },
    {
      "cell_type": "code",
      "metadata": {
        "id": "gyhklytPxNqB"
      },
      "source": [
        "# Maps different entries to different level names\n",
        "\n",
        "census_data['EGENDER'] = ['Male' if x == 1.0 else 'Female' for x in census_data['EGENDER']]\n",
        "census_data['HADCOVID'] = ['Had Covid' if x== 1.0 else 'Not Had Covid' if x==2.0 else 'Not Sure' for x in census_data['HADCOVID']]\n",
        "census_data['DELAY'] = ['Delayed' if x== 1.0 else 'Not Delayed' if x==2.0 else 'Not Sure' for x in census_data['DELAY']]\n",
        "census_data['NOTGET'] = ['Not Get' if x== 1.0 else 'Get' if x==2.0 else 'Not Sure' for x in census_data['NOTGET']]\n",
        "census_data['MH_NOTGET'] = ['Not Get' if x== 1.0 else 'Get' if x==2.0 else 'Not Sure' for x in census_data['MH_NOTGET']]\n",
        "census_data['RECVDVACC'] = ['Received Vaccine' if x== 1.0 else 'Not Received Vaccine' if x==2.0 else 'Not Sure' for x in census_data['RECVDVACC']]\n",
        "census_data['ANYWORK'] = ['Worked For Pay' if x== 1.0 else 'Not Worked For Pay' if x==2.0 else 'Not Sure' for x in census_data['ANYWORK']]\n",
        "census_data['PRIVHLTH'] = ['Private Insurance' if x== 1.0 else 'Not Private Insurance' if x==2.0 else 'Unknown' for x in census_data['PRIVHLTH']]\n",
        "census_data['Age_Group'] = ['> 1986 (Young)' if int(x) > 1986 else '1960-1986 (Middle Age)' if int(x) <1986 and int(x)>1960 else '< 1960 (Old)' for x in census_data['TBIRTH_YEAR']]"
      ],
      "execution_count": null,
      "outputs": []
    },
    {
      "cell_type": "code",
      "metadata": {
        "id": "20UgtEb8xcfX"
      },
      "source": [
        "# Maps the state numbers to state names \n",
        "\n",
        "state_mapping = pd.read_csv('state_map.csv')\n",
        "mapping = dict(state_mapping[['EST_ST', 'STATE']].values)\n",
        "census_data['STATE'] = census_data['EST_ST'].map(mapping)"
      ],
      "execution_count": null,
      "outputs": []
    },
    {
      "cell_type": "code",
      "metadata": {
        "id": "Gp3Vjq6x1-wx"
      },
      "source": [
        "# Saves the changed entries and columns to a csv file \n",
        "\n",
        "census_data.to_csv(\"census_data.csv\")"
      ],
      "execution_count": null,
      "outputs": []
    }
  ]
}